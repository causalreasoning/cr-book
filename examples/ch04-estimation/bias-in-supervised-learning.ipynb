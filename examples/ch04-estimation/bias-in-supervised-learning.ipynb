{
 "cells": [
  {
   "cell_type": "code",
   "execution_count": 1,
   "metadata": {},
   "outputs": [],
   "source": [
    "import numpy as np\n",
    "import pandas as pd\n",
    "import math\n",
    "import dowhy\n",
    "from dowhy import CausalModel\n",
    "\n",
    "from plotnine import ggplot, aes, geom_boxplot, geom_hline, ylim, xlab, ylab, theme_bw, theme, element_text, ggsave\n",
    "\n",
    "import logging\n",
    "logging.getLogger().setLevel(logging.CRITICAL)"
   ]
  },
  {
   "cell_type": "code",
   "execution_count": 147,
   "metadata": {},
   "outputs": [],
   "source": [
    "def linear_dataset(num_samples,\n",
    "                      beta, variance_eps, \n",
    "                      prob_treatment,\n",
    "                      prob_outliers,\n",
    "                      sampling_distribution,\n",
    "                      square_treatment=False):\n",
    "    # Sampling mechanism\n",
    "    if sampling_distribution == \"uniform\":\n",
    "        w = np.concatenate((np.random.uniform(0,0.1, int(num_samples/2)), np.random.uniform(0.9,1, int(num_samples/2))))\n",
    "        w2 = np.random.uniform(0,1, num_samples)\n",
    "        w3 = np.random.uniform(0,1, num_samples)\n",
    "        w4 = np.random.uniform(0,1, num_samples)\n",
    "        w=w2+w3 +np.random.uniform(0,0.2, num_samples)\n",
    "    else:\n",
    "        w = np.random.beta(1, 3, num_samples)\n",
    "    #x = np.random.binomial(n=1, p=w*w2, size=num_samples)     \n",
    "    x = w+w2 +w3+w4*w + np.random.uniform(0, 0.5, num_samples)\n",
    "    #w3=10*x\n",
    "    eps = np.random.normal(0, math.sqrt(variance_eps), num_samples)\n",
    "    y = (beta)*(x) - 10*w + 10*w2*w3 - 10*w3*w + 10*w4+  eps\n",
    "    \n",
    "    df = pd.DataFrame({'treatment':x,\"confounder\":w, \"w2\":w2,\"w3\":w3, \"w4\":w4, \"outcome\":y})\n",
    "    #df[\"treatment\"] = df[\"treatment\"].astype('bool')\n",
    "    return df"
   ]
  },
  {
   "cell_type": "code",
   "execution_count": 172,
   "metadata": {},
   "outputs": [],
   "source": [
    "from sklearn.linear_model import LinearRegression, Ridge, Lasso, ElasticNet\n",
    "from sklearn import tree\n",
    "from sklearn.ensemble import RandomForestRegressor\n",
    "def estimate_effect(model, df):\n",
    "    df.loc[:, 'treatment'] = 1\n",
    "    y1 = model.predict(df)\n",
    "    df.loc[:,'treatment']=0\n",
    "    y0=model.predict(df)\n",
    "    return np.mean(y1-y0)"
   ]
  },
  {
   "cell_type": "code",
   "execution_count": 173,
   "metadata": {},
   "outputs": [
    {
     "name": "stdout",
     "output_type": "stream",
     "text": [
      "      treatment  confounder        w2        w3        w4    outcome\n",
      "0      4.002741    1.688478  0.672459  0.951274  0.397823  28.334294\n",
      "1      4.447327    1.662236  0.748267  0.740127  0.643867  30.456343\n",
      "2      4.692952    1.474242  0.712632  0.748723  0.941381  20.216946\n",
      "3      2.381844    0.941237  0.393392  0.389862  0.511976  28.508415\n",
      "4      2.819261    1.133730  0.592248  0.353053  0.292743  20.662350\n",
      "...         ...         ...       ...       ...       ...        ...\n",
      "9995   1.162159    0.419964  0.107169  0.235419  0.594514  16.181771\n",
      "9996   3.699581    1.287213  0.547282  0.566073  0.885880  15.384491\n",
      "9997   3.073512    1.324327  0.336897  0.932815  0.039565  20.801911\n",
      "9998   2.104396    0.905148  0.710852  0.065974  0.410212   0.283615\n",
      "9999   1.865562    0.679431  0.660775  0.008469  0.306505   4.588520\n",
      "\n",
      "[10000 rows x 6 columns]\n"
     ]
    },
    {
     "name": "stderr",
     "output_type": "stream",
     "text": [
      "/home/amit/python-virtual-envs/env3.6/lib/python3.6/site-packages/pandas/core/indexing.py:1048: SettingWithCopyWarning: \n",
      "A value is trying to be set on a copy of a slice from a DataFrame.\n",
      "Try using .loc[row_indexer,col_indexer] = value instead\n",
      "\n",
      "See the caveats in the documentation: https://pandas.pydata.org/pandas-docs/stable/user_guide/indexing.html#returning-a-view-versus-a-copy\n",
      "  self.obj[item_labels[indexer[info_axis]]] = value\n",
      "/home/amit/python-virtual-envs/env3.6/lib/python3.6/site-packages/pandas/core/indexing.py:966: SettingWithCopyWarning: \n",
      "A value is trying to be set on a copy of a slice from a DataFrame.\n",
      "Try using .loc[row_indexer,col_indexer] = value instead\n",
      "\n",
      "See the caveats in the documentation: https://pandas.pydata.org/pandas-docs/stable/user_guide/indexing.html#returning-a-view-versus-a-copy\n",
      "  self.obj[item] = s\n"
     ]
    },
    {
     "name": "stdout",
     "output_type": "stream",
     "text": [
      "1.1255522154444633\n",
      "[]\n"
     ]
    }
   ],
   "source": [
    "num_simulations=2\n",
    "num_data_samples=10000\n",
    "beta=10\n",
    "var_eps=100\n",
    "prob_treatment=None\n",
    "prob_outliers=None\n",
    "sampling_distr=\"uniform\"\n",
    "square_treatment=None\n",
    "estimates = []\n",
    "for i in range(num_simulations):\n",
    "    data = linear_dataset(num_samples = num_data_samples,\n",
    "                             beta=beta,\n",
    "                             variance_eps=var_eps,\n",
    "                             prob_treatment = prob_treatment,\n",
    "                             prob_outliers=prob_outliers,\n",
    "                             sampling_distribution=sampling_distr,\n",
    "                             square_treatment=square_treatment)\n",
    "    print(data)\n",
    "    \n",
    "    model= RandomForestRegressor().fit(data[[\"treatment\", \"confounder\", \"w2\", \"w3\", \"w4\"]], data[\"outcome\"])\n",
    "    print(estimate_effect(model, data[[\"treatment\", \"confounder\", \"w2\", \"w3\", \"w4\"]]))\n",
    "    break\n",
    "    cmodel = CausalModel(data,\n",
    "                    treatment=\"treatment\",\n",
    "                    outcome=\"outcome\",\n",
    "                    common_causes=['confounder','w2','w3','w4'])\n",
    "    identified_estimand = cmodel.identify_effect(proceed_when_unidentifiable=True)\n",
    "    estimate = cmodel.estimate_effect(identified_estimand, method_name = \"backdoor.linear_regression\")\n",
    "    print(estimate.estimator.model.summary())\n",
    "    estimates.append(estimate.value)\n",
    "print(estimates)"
   ]
  },
  {
   "cell_type": "code",
   "execution_count": null,
   "metadata": {},
   "outputs": [],
   "source": []
  }
 ],
 "metadata": {
  "kernelspec": {
   "display_name": "Python 3",
   "language": "python",
   "name": "python3"
  },
  "language_info": {
   "codemirror_mode": {
    "name": "ipython",
    "version": 3
   },
   "file_extension": ".py",
   "mimetype": "text/x-python",
   "name": "python",
   "nbconvert_exporter": "python",
   "pygments_lexer": "ipython3",
   "version": "3.6.6"
  }
 },
 "nbformat": 4,
 "nbformat_minor": 4
}
