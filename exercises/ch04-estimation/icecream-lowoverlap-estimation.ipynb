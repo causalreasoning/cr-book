{
 "cells": [
  {
   "cell_type": "markdown",
   "metadata": {},
   "source": [
    "# Exercise 4.1: Search engine study: Estimate the causal effect of ice-cream consumption on swimming\n",
    "\n",
    "The following code reproduces Table 4.1. Your task is to estimate the causal effect. "
   ]
  },
  {
   "cell_type": "code",
   "execution_count": 1,
   "metadata": {},
   "outputs": [],
   "source": [
    "import math\n",
    "import numpy as np\n",
    "import pandas as pd"
   ]
  },
  {
   "cell_type": "code",
   "execution_count": 2,
   "metadata": {},
   "outputs": [],
   "source": [
    "# Overall parameters for the data generating process\n",
    "temp_vals = [\"LOW\",  \"MEDIUM\", \"HIGH\"]\n",
    "icecream_vals = [\"LOW\", \"HIGH\"]\n",
    "fraction_high_icecream_queries = {temp_vals[0]: 0.0001, temp_vals[1]: 0.5, temp_vals[2]: 0.9}\n",
    "mean_swimming_queries = {temp_vals[0]: 505, temp_vals[1]:2150 , temp_vals[2]: 4750}"
   ]
  },
  {
   "cell_type": "code",
   "execution_count": 3,
   "metadata": {},
   "outputs": [],
   "source": [
    "# Function to generate the data\n",
    "def generate_dataset(num_samples=30000, \n",
    "                    variance_swimming_queries = 1000):\n",
    "    samples_per_temp = int(num_samples/3)\n",
    "    temp_arr = []\n",
    "    for temp in temp_vals:\n",
    "        temp_arr.extend([temp]* samples_per_temp)\n",
    "    icecream_queries = []\n",
    "    for temp in temp_vals:\n",
    "        num_high = int(fraction_high_icecream_queries[temp]*samples_per_temp)\n",
    "        num_low = samples_per_temp - num_high\n",
    "        icecream_queries.extend([\"HIGH\"]*num_high + [\"LOW\"]* num_low)\n",
    "    swimming_queries = []\n",
    "    for temp in temp_vals:\n",
    "        swimming_queries.extend(np.random.normal(mean_swimming_queries[temp], \n",
    "                                                 math.sqrt(variance_swimming_queries),\n",
    "                                                 samples_per_temp))\n",
    "    # Specifying the anomalous value \n",
    "    swimming_queries[0] = 560\n",
    "    timeseries_indices = np.random.permutation(num_samples)\n",
    "    df = pd.DataFrame({\n",
    "        'temp_timeseries': [temp_arr[ind] for ind in timeseries_indices],\n",
    "        'icecream_timeseries': [icecream_queries[ind] for ind in timeseries_indices],\n",
    "        'swimming_timeseries': [swimming_queries[ind] for ind in timeseries_indices]\n",
    "    })\n",
    "    df.loc[:, \"temp_timeseries\"] = pd.Categorical(df[\"temp_timeseries\"], categories=temp_vals, ordered=True)\n",
    "    df.loc[:, \"icecream_timeseries\"] = pd.Categorical(df[\"icecream_timeseries\"], categories=icecream_vals, ordered=True)\n",
    "    return df"
   ]
  },
  {
   "cell_type": "code",
   "execution_count": 4,
   "metadata": {},
   "outputs": [
    {
     "data": {
      "text/html": [
       "<div>\n",
       "<style scoped>\n",
       "    .dataframe tbody tr th:only-of-type {\n",
       "        vertical-align: middle;\n",
       "    }\n",
       "\n",
       "    .dataframe tbody tr th {\n",
       "        vertical-align: top;\n",
       "    }\n",
       "\n",
       "    .dataframe thead th {\n",
       "        text-align: right;\n",
       "    }\n",
       "</style>\n",
       "<table border=\"1\" class=\"dataframe\">\n",
       "  <thead>\n",
       "    <tr style=\"text-align: right;\">\n",
       "      <th></th>\n",
       "      <th></th>\n",
       "      <th>frequency</th>\n",
       "      <th>mean_swimming_queries</th>\n",
       "    </tr>\n",
       "    <tr>\n",
       "      <th>temp_timeseries</th>\n",
       "      <th>icecream_timeseries</th>\n",
       "      <th></th>\n",
       "      <th></th>\n",
       "    </tr>\n",
       "  </thead>\n",
       "  <tbody>\n",
       "    <tr>\n",
       "      <th rowspan=\"2\" valign=\"top\">LOW</th>\n",
       "      <th>LOW</th>\n",
       "      <td>9999.0</td>\n",
       "      <td>505.447944</td>\n",
       "    </tr>\n",
       "    <tr>\n",
       "      <th>HIGH</th>\n",
       "      <td>1.0</td>\n",
       "      <td>560.000000</td>\n",
       "    </tr>\n",
       "    <tr>\n",
       "      <th rowspan=\"2\" valign=\"top\">MEDIUM</th>\n",
       "      <th>LOW</th>\n",
       "      <td>5000.0</td>\n",
       "      <td>2150.178760</td>\n",
       "    </tr>\n",
       "    <tr>\n",
       "      <th>HIGH</th>\n",
       "      <td>5000.0</td>\n",
       "      <td>2149.736517</td>\n",
       "    </tr>\n",
       "    <tr>\n",
       "      <th rowspan=\"2\" valign=\"top\">HIGH</th>\n",
       "      <th>LOW</th>\n",
       "      <td>1000.0</td>\n",
       "      <td>4750.146450</td>\n",
       "    </tr>\n",
       "    <tr>\n",
       "      <th>HIGH</th>\n",
       "      <td>9000.0</td>\n",
       "      <td>4750.213717</td>\n",
       "    </tr>\n",
       "  </tbody>\n",
       "</table>\n",
       "</div>"
      ],
      "text/plain": [
       "                                     frequency  mean_swimming_queries\n",
       "temp_timeseries icecream_timeseries                                  \n",
       "LOW             LOW                     9999.0             505.447944\n",
       "                HIGH                       1.0             560.000000\n",
       "MEDIUM          LOW                     5000.0            2150.178760\n",
       "                HIGH                    5000.0            2149.736517\n",
       "HIGH            LOW                     1000.0            4750.146450\n",
       "                HIGH                    9000.0            4750.213717"
      ]
     },
     "execution_count": 4,
     "metadata": {},
     "output_type": "execute_result"
    }
   ],
   "source": [
    "# Summarizing the data and reproducing Table 4.1 from the book.\n",
    "data = generate_dataset()\n",
    "data.groupby([\"temp_timeseries\", \"icecream_timeseries\"]).agg(\n",
    "    frequency = ('swimming_timeseries', np.size),\n",
    "    mean_swimming_queries = (\"swimming_timeseries\", np.mean))"
   ]
  },
  {
   "cell_type": "code",
   "execution_count": 5,
   "metadata": {},
   "outputs": [],
   "source": [
    "# TODO: Using the simple stratification estimator, calculate the average causal effect of\n",
    "# icecream consumption on the number of swimming queries."
   ]
  },
  {
   "cell_type": "code",
   "execution_count": 6,
   "metadata": {},
   "outputs": [],
   "source": [
    "# TODO: Can you think of a better method to estimate the causal effect using this data?"
   ]
  }
 ],
 "metadata": {
  "kernelspec": {
   "display_name": "Python 3",
   "language": "python",
   "name": "python3"
  },
  "language_info": {
   "codemirror_mode": {
    "name": "ipython",
    "version": 3
   },
   "file_extension": ".py",
   "mimetype": "text/x-python",
   "name": "python",
   "nbconvert_exporter": "python",
   "pygments_lexer": "ipython3",
   "version": "3.8.5"
  },
  "toc": {
   "base_numbering": 1,
   "nav_menu": {},
   "number_sections": false,
   "sideBar": true,
   "skip_h1_title": true,
   "title_cell": "Table of Contents",
   "title_sidebar": "Contents",
   "toc_cell": false,
   "toc_position": {},
   "toc_section_display": true,
   "toc_window_display": false
  }
 },
 "nbformat": 4,
 "nbformat_minor": 4
}
